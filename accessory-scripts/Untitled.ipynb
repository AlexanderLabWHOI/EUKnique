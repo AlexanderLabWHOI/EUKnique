{
 "cells": [
  {
   "cell_type": "code",
   "execution_count": 10,
   "metadata": {},
   "outputs": [
    {
     "name": "stderr",
     "output_type": "stream",
     "text": [
      "/vortexfs1/home/akrinos/.conda/envs/akrinos_env/lib/python3.6/site-packages/ipykernel_launcher.py:15: YAMLLoadWarning: calling yaml.load() without Loader=... is deprecated, as the default Loader is unsafe. Please read https://msg.pyyaml.org/load for full details.\n",
      "  from ipykernel import kernelapp as app\n",
      "/vortexfs1/omics/alexander/akrinos/euknique/accessory-scripts/preprocessing.py:15: YAMLLoadWarning: calling yaml.load() without Loader=... is deprecated, as the default Loader is unsafe. Please read https://msg.pyyaml.org/load for full details.\n",
      "  config = yaml.load(configfile)\n"
     ]
    },
    {
     "name": "stdout",
     "output_type": "stream",
     "text": [
      "  Directory                       File        Index\n",
      "0     S0007  PN3_TP3_AX1_HT1_071119_S7  AX_HT_PN_TP\n",
      "0     S0006            AX3_071119_2_S6        AB_AX\n",
      "0     S0001            AX3_071119_1_S1        AB_AX\n",
      "0     S0008          PN3_PN2_071119_S8           PN\n",
      "0     S0003          TP1_TP2_071119_S3           TP\n",
      "0     S0002          AX1_HT1_071119_S2        AX_HT\n",
      "0     S0004          AX2_HT2_071119_S4        AX_HT\n",
      "0     S0005          AX4_PN1_071119_S5        AX_PN\n",
      "[['MMETSP0347', 'MMETSP0196'], ['MMETSP1071'], ['MMETSP1060'], ['MMETSP0448'], ['MMETSP0795']]\n",
      "MMETSP0347\n",
      "MMETSP0196\n",
      "/vortexfs1/omics/alexander/akrinos/euknique/data/AX_combined_nt.fasta\n",
      "MMETSP1071\n",
      "/vortexfs1/omics/alexander/akrinos/euknique/data/TP_combined_nt.fasta\n",
      "MMETSP1060\n",
      "/vortexfs1/omics/alexander/akrinos/euknique/data/PN_combined_nt.fasta\n",
      "MMETSP0448\n",
      "/vortexfs1/omics/alexander/akrinos/euknique/data/HT_combined_nt.fasta\n",
      "MMETSP0795\n",
      "/vortexfs1/omics/alexander/akrinos/euknique/data/AB_combined_nt.fasta\n",
      "Done!\n"
     ]
    }
   ],
   "source": [
    "#configfile = \"config.yaml\"\n",
    "\n",
    "import io\n",
    "import sys\n",
    "import os\n",
    "import yaml\n",
    "import pandas as pd\n",
    "import numpy as np\n",
    "import pathlib\n",
    "from snakemake.exceptions import print_exception, WorkflowError \n",
    "# allows us to call modules\n",
    "sys.path.insert(1, 'snake-modules')\n",
    "\n",
    "with open(\"../config.yaml\", \"r\") as configfile:\n",
    "    config = yaml.load(configfile)\n",
    "\n",
    "INPUTDIR = config[\"inputdir\"]\n",
    "REFERENCEDIR = config[\"referencedir\"]\n",
    "SCRATCHDIR = config[\"scratch\"]\n",
    "OUTDIR = config[\"outputdir\"]\n",
    "DATADIR = config[\"datadir\"] # for transcriptomes not in MMETSP\n",
    "SUBDIRECTORY = config[\"subdirectory\"]\n",
    "SUBDIR_TABLE = pd.read_csv(\"../\"+SUBDIRECTORY, sep = \"\\t\")\n",
    "DATE = config[\"date\"]\n",
    "\n",
    "include: \"snake-modules/alevin-snake\"\n",
    "include: \"snake-modules/salmon-snake\"\n",
    "\n",
    "PN_name = config[\"pn\"]\n",
    "Alex_name = config[\"alex\"]\n",
    "Ehux_name = config[\"ehux\"]\n",
    "Thaps_name = config[\"thaps\"]\n",
    "Heterocap_name = config[\"het\"]\n",
    "DICT_NAMES = {Heterocap_name:\"HT\",\\\n",
    "              Thaps_name:\"TP\",\\\n",
    "              PN_name:\"PN\",\\\n",
    "              Alex_name:\"AX\",\\\n",
    "              Ehux_name:\"EH\"}  \n",
    "DICT_CODES = {v: k for k,v in DICT_NAMES.items()}\n",
    "\n",
    "GROUP_NAMES = []\n",
    "\n",
    "FILE_NAMES = SUBDIR_TABLE.File\n",
    "INDEX_NAMES = SUBDIR_TABLE.Index\n",
    "DIRECTORIES = SUBDIR_TABLE.Directory\n",
    "\n",
    "list_cultures = INDEX_NAMES\n",
    "\n",
    "if config[\"maketg\"] == 1:\n",
    "    import preprocessing\n",
    "if config[\"makesalmon\"] == 1:\n",
    "    import salmon\n",
    "\n"
   ]
  },
  {
   "cell_type": "code",
   "execution_count": null,
   "metadata": {},
   "outputs": [],
   "source": []
  }
 ],
 "metadata": {
  "kernelspec": {
   "display_name": "Python 3",
   "language": "python",
   "name": "python3"
  },
  "language_info": {
   "codemirror_mode": {
    "name": "ipython",
    "version": 3
   },
   "file_extension": ".py",
   "mimetype": "text/x-python",
   "name": "python",
   "nbconvert_exporter": "python",
   "pygments_lexer": "ipython3",
   "version": "3.6.9"
  }
 },
 "nbformat": 4,
 "nbformat_minor": 2
}
