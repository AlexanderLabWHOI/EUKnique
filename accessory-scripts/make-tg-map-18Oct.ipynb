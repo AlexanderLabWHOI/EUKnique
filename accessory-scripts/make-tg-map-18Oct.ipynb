{
 "cells": [
  {
   "cell_type": "code",
   "execution_count": 7,
   "metadata": {},
   "outputs": [],
   "source": [
    "import os\n",
    "import io\n",
    "import re\n",
    "import csv\n",
    "import subprocess\n",
    "import requests\n",
    "import pandas as pd\n",
    "import numpy as np\n",
    "import yaml\n",
    "\n",
    "list_orgs = [\"Heterocapsa triquestra\", \"Amoebophrya\", \n",
    "             \"Alexandrium\", \n",
    "             \"Pseudo-nitzschia pungens\", \"Thalassiosira sp.\"]\n",
    "list_orgs_short = [\"HT\", \"AB\", \"AX\", \"PN\", \"TP\"]\n",
    "\n",
    "samples_avail = pd.read_csv(\"../data/forNCBI_MMETSP.csv\")"
   ]
  },
  {
   "cell_type": "code",
   "execution_count": 8,
   "metadata": {},
   "outputs": [
    {
     "name": "stdout",
     "output_type": "stream",
     "text": [
      "['Heterocapsa triquestra', 'Amoebophrya', 'Alexandrium', 'Pseudo-nitzschia pungens', 'Thalassiosira sp.']\n"
     ]
    },
    {
     "name": "stderr",
     "output_type": "stream",
     "text": [
      "/vortexfs1/home/akrinos/.conda/envs/akrinos_env/lib/python3.6/site-packages/ipykernel_launcher.py:4: YAMLLoadWarning: calling yaml.load() without Loader=... is deprecated, as the default Loader is unsafe. Please read https://msg.pyyaml.org/load for full details.\n",
      "  after removing the cwd from sys.path.\n"
     ]
    }
   ],
   "source": [
    "print(list_orgs)\n",
    "configfile = \"../config.yaml\"\n",
    "with open(configfile, \"r\") as configfile:\n",
    "    config = yaml.load(configfile)\n",
    "REFERENCEDIR = config[\"referencedir\"]\n",
    "DATADIR = config[\"datadir\"]\n",
    "relative_dir = \"/vortexfs1/omics/alexander/akrinos/scrna-seqwell-analysis\" # \"..\" if we're running from the scripts or something "
   ]
  },
  {
   "cell_type": "code",
   "execution_count": 9,
   "metadata": {},
   "outputs": [],
   "source": [
    "where_to_look = []\n",
    "MMETSP_names = []\n",
    "\n",
    "# Get a list of the MMETSP codes corresponding to organisms we used\n",
    "for g in list_orgs:\n",
    "    matching_mmetsp = [a for a,b in enumerate(samples_avail['ORGANISM']) if b == g]\n",
    "    where_to_look.extend([a for a,b in enumerate(samples_avail['ORGANISM']) if b == g])\n",
    "    MMETSP_names.append(str(samples_avail['SAMPLE_NAME'][where_to_look[len(where_to_look)-1]])) # we could use list() and add all MMETSP files that match, if we wanted\n",
    "    \n",
    "MMETSP_names = [\"MMETSP0448\",\"MMETSP0795\",'MMETSP0347',\"MMETSP1060\",\"MMETSP1071\"]\n",
    "#r2 = requests.get(\"https://zenodo.org/record/1212585/files/MMETSP0004.trinity_out_2.2.0.Trinity.fasta.renamed.fasta\")\n",
    "#open('tests.fasta', 'wb').write(r2.content)"
   ]
  },
  {
   "cell_type": "code",
   "execution_count": 12,
   "metadata": {},
   "outputs": [
    {
     "name": "stdout",
     "output_type": "stream",
     "text": [
      "/vortexfs1/omics/alexander/data/mmetsp/MMETSP0448_clean.fasta\n",
      "/vortexfs1/omics/alexander/data/mmetsp/MMETSP0795_clean.fasta\n",
      "/vortexfs1/omics/alexander/data/mmetsp/MMETSP0347_clean.fasta\n",
      "/vortexfs1/omics/alexander/data/mmetsp/MMETSP1060_clean.fasta\n",
      "/vortexfs1/omics/alexander/data/mmetsp/MMETSP1071_clean.fasta\n"
     ]
    }
   ],
   "source": [
    "# Make a directory for each species of interest and then save the FASTA files from Zenodo corresponding to each given species of interest\n",
    "files_written = []\n",
    "for gg in range(0,len(MMETSP_names)):\n",
    "    #file_names = \"https://zenodo.org/record/1212585/files/\" + MMETSP_names[gg] + \".trinity_out_2.2.0.Trinity.fasta.renamed.fasta\" \n",
    "    if type(MMETSP_names[gg]) == list: \n",
    "        combined_dir = \"/vortexfs1/omics/data/mmetsp/johnson/nt\"\n",
    "        file_names = [os.path.join(combined_dir, p + \\\n",
    "                                   \".trinity_out_2.2.0.Trinity.fasta.renamed.fasta\") for p in MMETSP_names[gg]]\n",
    "    else:\n",
    "        file_names = os.path.join(REFERENCEDIR, MMETSP_names[gg] + \"_clean.fasta\")\n",
    "    print(file_names)\n",
    "    species_dir_name = os.path.join(relative_dir, DATADIR) #\"../data/\" \n",
    "    if isinstance(file_names, list):\n",
    "        print(\"hello\")\n",
    "        for f in range(0, len(file_names)):\n",
    "            curr_file = file_names[f]\n",
    "            to_write = species_dir_name + list_orgs[gg].replace(\" \", \"\") + \"_\" + MMETSP_names[gg][f] + \"_nt.fasta\"\n",
    "            #open(to_write, 'wb').write(curr_file.content)\n",
    "            os.system(\"cp \" + curr_file + \" \" + to_write)\n",
    "        print(\" \".join(file_names))\n",
    "        os.system(\"cat \" + \" \".join(file_names) + \" > \" + \\\n",
    "                  os.path.join(relative_dir, DATADIR, list_orgs[gg].replace(\" \", \"\") + \"_\" + \"combined\" + \"_nt.fasta\"))\n",
    "        to_write = os.path.join(relative_dir, DATADIR, list_orgs[gg].replace(\" \", \"\") + \"_\" + \"combined\" + \"_nt.fasta\")\n",
    "    else:\n",
    "        curr_file = file_names\n",
    "        to_write = species_dir_name + list_orgs[gg].replace(\" \", \"-\") + \"_\" + MMETSP_names[gg] + \"_nt.fasta\"\n",
    "        #open(to_write, 'wb').write(curr_file.content)\n",
    "        os.system(\"cp -f \" + curr_file + \" \" + to_write)\n",
    "    files_written.append(to_write) # need to extend if using list option\n",
    "        "
   ]
  },
  {
   "cell_type": "code",
   "execution_count": 5,
   "metadata": {},
   "outputs": [
    {
     "name": "stdout",
     "output_type": "stream",
     "text": [
      "../data/Heterocapsa-triquestra_MMETSP0448_nt.fasta\n",
      "Heterocapsa-triquestra\n",
      "../data/Heterocapsa-triquestra_MMETSP0448_nt.fasta\n",
      "../data/tgMap_Heterocapsa-triquestra_MMETSP0448.tsv\n",
      "Amoebophrya\n",
      "../data/Amoebophrya_MMETSP0795_nt.fasta\n",
      "../data/tgMap_Amoebophrya_MMETSP0795.tsv\n",
      "Alexandrium\n",
      "../data/Alexandrium_MMETSP0347_nt.fasta\n",
      "../data/tgMap_Alexandrium_MMETSP0347.tsv\n",
      "Pseudo-nitzschia-pungens\n",
      "../data/Pseudo-nitzschia-pungens_MMETSP1060_nt.fasta\n",
      "../data/tgMap_Pseudo-nitzschia-pungens_MMETSP1060.tsv\n",
      "Thalassiosira-sp.\n",
      "../data/Thalassiosira-sp._MMETSP1071_nt.fasta\n",
      "../data/tgMap_Thalassiosira-sp._MMETSP1071.tsv\n"
     ]
    }
   ],
   "source": [
    "counter = 0\n",
    "for ff in range(0,len(files_written)):\n",
    "    f = files_written[ff]\n",
    "    g = MMETSP_names[ff]\n",
    "    if isinstance(g, list):\n",
    "        g = \"combined\"\n",
    "    if counter == 0:\n",
    "        print(f)\n",
    "    \n",
    "    print(list_orgs[ff].replace(\" \", \"-\"))\n",
    "    print(f)\n",
    "    file_loc = \"../data/tgMap_\" + list_orgs[ff].replace(\" \", \"-\") + \"_\" + g + \".tsv\"\n",
    "    print(file_loc)\n",
    "    os.system(\"touch \" + file_loc)\n",
    "\n",
    "    with open(\"../data/tgMap.tsv\", 'wt') as tgMap_file:\n",
    "        transcript_to_gene = csv.writer(tgMap_file, delimiter='\\t')\n",
    "        if g == \"combined\":\n",
    "            command = str(\"cat \" + str(f) + \" | grep \\\">\\\" | cut -f2 -d \\\">\\\" | cut -f1 -d \\\" \\\" > transcript_names.txt\")\n",
    "        else:\n",
    "            command = str(\"cat \" + str(f) + \" | grep \\\">\\\" | cut -f2 -d \\\">\\\" > transcript_names.txt\")\n",
    "        os.system(command)\n",
    "        transcripts = open(\"transcript_names.txt\", \"r\")\n",
    "        for transcript in transcripts:\n",
    "            #print(transcript)\n",
    "            if g == \"combined\":\n",
    "                genes = [transcript.replace(\"\\n\",\"\"), list_orgs_short[ff] + \"-\" + transcript.split(\"TRINITY_\")[1].split(\"_\")[0]]\n",
    "            else:\n",
    "                genes = [transcript.replace(\"\\n\",\"\"), list_orgs_short[ff] + \"-\" + \"DN\" + transcript.split(\"|\")[3].replace(\"\\n\", \"\")]\n",
    "            counter = counter + 1\n",
    "            transcript_to_gene.writerow(genes)\n",
    "    \n",
    "    os.system(\"mv ../data/tgMap.tsv \" + file_loc)\n",
    "    tgMap_file.close()"
   ]
  }
 ],
 "metadata": {
  "kernelspec": {
   "display_name": "Python 3",
   "language": "python",
   "name": "python3"
  },
  "language_info": {
   "codemirror_mode": {
    "name": "ipython",
    "version": 3
   },
   "file_extension": ".py",
   "mimetype": "text/x-python",
   "name": "python",
   "nbconvert_exporter": "python",
   "pygments_lexer": "ipython3",
   "version": "3.6.9"
  }
 },
 "nbformat": 4,
 "nbformat_minor": 2
}
